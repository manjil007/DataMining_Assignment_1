{
 "cells": [
  {
   "cell_type": "code",
   "execution_count": 6,
   "id": "initial_id",
   "metadata": {
    "ExecuteTime": {
     "end_time": "2024-09-19T20:44:31.148389Z",
     "start_time": "2024-09-19T20:44:31.143225Z"
    },
    "collapsed": true
   },
   "outputs": [],
   "source": [
    "import pandas as pd\n",
    "import numpy as np\n",
    "import math\n",
    "import random"
   ]
  },
  {
   "cell_type": "code",
   "execution_count": 8,
   "id": "cc2bc9bb95684938",
   "metadata": {
    "ExecuteTime": {
     "end_time": "2024-09-19T20:44:36.064885Z",
     "start_time": "2024-09-19T20:44:35.821538Z"
    },
    "collapsed": false
   },
   "outputs": [],
   "source": [
    "df = pd.read_csv('../data/Asgmnt1_data.csv',header=None)"
   ]
  },
  {
   "cell_type": "code",
   "execution_count": 9,
   "id": "e9eaddfc9ef7188",
   "metadata": {
    "ExecuteTime": {
     "end_time": "2024-09-19T20:44:36.838105Z",
     "start_time": "2024-09-19T20:44:36.833111Z"
    },
    "collapsed": false
   },
   "outputs": [
    {
     "data": {
      "text/plain": [
       "(16000, 128)"
      ]
     },
     "execution_count": 9,
     "metadata": {},
     "output_type": "execute_result"
    }
   ],
   "source": [
    "df.shape"
   ]
  },
  {
   "cell_type": "code",
   "execution_count": 10,
   "id": "2014daf6281ee5c",
   "metadata": {
    "ExecuteTime": {
     "end_time": "2024-09-19T20:44:46.835915Z",
     "start_time": "2024-09-19T20:44:42.967614Z"
    },
    "collapsed": false
   },
   "outputs": [],
   "source": [
    "normalized_rows = []\n",
    "number_rows = df.shape[0]\n",
    "\n",
    "for i in range(number_rows):\n",
    "    normalized_row = []\n",
    "    row_values = df.iloc[i, :]\n",
    "    \n",
    "    mean = row_values.mean()\n",
    "    std = row_values.std(ddof=1)\n",
    "    \n",
    "    for val in row_values:\n",
    "        normalized_val = (val - mean) / std\n",
    "        normalized_row.append(normalized_val)\n",
    "        \n",
    "    normalized_rows.append(pd.Series(normalized_row, index=df.columns, name=df.index[i]))\n",
    "    \n",
    "normalized_data = pd.concat(normalized_rows, axis=1).T"
   ]
  },
  {
   "cell_type": "code",
   "execution_count": 11,
   "id": "909b7f332975e20f",
   "metadata": {
    "ExecuteTime": {
     "end_time": "2024-09-19T20:44:46.841221Z",
     "start_time": "2024-09-19T20:44:46.837100Z"
    },
    "collapsed": false
   },
   "outputs": [
    {
     "data": {
      "text/plain": [
       "(16000, 128)"
      ]
     },
     "execution_count": 11,
     "metadata": {},
     "output_type": "execute_result"
    }
   ],
   "source": [
    "normalized_data.shape"
   ]
  },
  {
   "cell_type": "code",
   "execution_count": 12,
   "id": "a0e5f7602ec042b0",
   "metadata": {
    "ExecuteTime": {
     "end_time": "2024-09-19T20:45:19.352470Z",
     "start_time": "2024-09-19T20:45:19.343789Z"
    },
    "collapsed": false
   },
   "outputs": [],
   "source": [
    "def calculate_euclidean_distance(row1, row2):\n",
    "    sum_square = 0\n",
    "    for (val1, val2) in zip(row1, row2):\n",
    "        sum_square += (val1 - val2) ** 2\n",
    "    \n",
    "    return math.sqrt(sum_square)"
   ]
  },
  {
   "cell_type": "code",
   "execution_count": 13,
   "id": "5b541d3f7d4795c9",
   "metadata": {
    "ExecuteTime": {
     "end_time": "2024-09-19T20:45:20.289091Z",
     "start_time": "2024-09-19T20:45:20.284144Z"
    },
    "collapsed": false
   },
   "outputs": [],
   "source": [
    "def construct_euclidean_distance_matrix(dataframe):\n",
    "    n = dataframe.shape[0]\n",
    "    distance_matrix = np.zeros((n, n))\n",
    "    for i in range(n):\n",
    "        for j in range(i, n):\n",
    "            distance = calculate_euclidean_distance(dataframe.iloc[i], dataframe.iloc[j])\n",
    "            distance_matrix[i, j] = distance\n",
    "            distance_matrix[j, i] = distance\n",
    "    \n",
    "    return distance_matrix\n"
   ]
  },
  {
   "cell_type": "code",
   "execution_count": 14,
   "id": "8fcd30d652095c5c",
   "metadata": {
    "ExecuteTime": {
     "start_time": "2024-09-19T20:45:21.657113Z"
    },
    "collapsed": false,
    "is_executing": true
   },
   "outputs": [],
   "source": [
    "normalized_distance_matrix = construct_euclidean_distance_matrix(normalized_data)\n",
    "np.savetxt(\"distances.csv\", normalized_distance_matrix, delimiter=',', fmt='%.6f')"
   ]
  },
  {
   "cell_type": "code",
   "execution_count": 15,
   "id": "2ae579a9728684e0",
   "metadata": {
    "collapsed": false,
    "is_executing": true
   },
   "outputs": [
    {
     "data": {
      "text/plain": [
       "(16000, 16000)"
      ]
     },
     "execution_count": 15,
     "metadata": {},
     "output_type": "execute_result"
    }
   ],
   "source": [
    "normalized_distance_matrix.shape"
   ]
  },
  {
   "cell_type": "code",
   "execution_count": 16,
   "id": "9afceece7d0cedc6",
   "metadata": {
    "ExecuteTime": {
     "start_time": "2024-09-19T20:10:54.863168Z"
    },
    "collapsed": false
   },
   "outputs": [],
   "source": [
    "def haar_non_square_matrix(m, n):\n",
    "    if n < m:\n",
    "        raise ValueError(\"Number of columns must be greater than or equal to the number of rows\")\n",
    "    \n",
    "    H = np.zeros((m, n))\n",
    "\n",
    "    # First row is all ones\n",
    "    H[0, :] = 1 / np.sqrt(n)\n",
    "    \n",
    "    # Build the rest of the matrix\n",
    "    for level in range(1, m):\n",
    "        step = n // (2 ** level)\n",
    "        if step == 0:\n",
    "            break  # Stop if the step becomes zero (more rows than meaningful steps)\n",
    "        \n",
    "        for i in range(0, n, 2 * step):\n",
    "            H[level, i:i + step] = 1 / np.sqrt(step)\n",
    "            H[level, i + step:i + 2 * step] = -1 / np.sqrt(step)\n",
    "    \n",
    "    return H"
   ]
  },
  {
   "cell_type": "code",
   "execution_count": 17,
   "id": "6fcb79c3e459d8d8",
   "metadata": {
    "collapsed": false
   },
   "outputs": [],
   "source": [
    "h = haar_non_square_matrix(128, 16000).T"
   ]
  },
  {
   "cell_type": "code",
   "execution_count": 18,
   "id": "9eeac1ae977f1000",
   "metadata": {
    "collapsed": false
   },
   "outputs": [],
   "source": [
    "wavelet_transformed_normalized_data = normalized_data * h"
   ]
  },
  {
   "cell_type": "code",
   "execution_count": 19,
   "id": "5a254c55c99a4be2",
   "metadata": {
    "collapsed": false
   },
   "outputs": [
    {
     "data": {
      "text/plain": [
       "(16000, 128)"
      ]
     },
     "execution_count": 19,
     "metadata": {},
     "output_type": "execute_result"
    }
   ],
   "source": [
    "wavelet_transformed_normalized_data.shape"
   ]
  },
  {
   "cell_type": "code",
   "execution_count": 20,
   "id": "c2c63a4b88e06b67",
   "metadata": {
    "ExecuteTime": {
     "start_time": "2024-09-19T20:10:54.868758Z"
    },
    "collapsed": false
   },
   "outputs": [],
   "source": [
    "wavelet_transformed_distance_matrix = construct_euclidean_distance_matrix(wavelet_transformed_normalized_data.iloc[:, :4])"
   ]
  },
  {
   "cell_type": "code",
   "execution_count": null,
   "id": "63f59663",
   "metadata": {},
   "outputs": [],
   "source": [
    "np.savetxt('wavelet_transformed_distance_matrix.csv', wavelet_transformed_distance_matrix, delimiter=',', fmt='%.6f')"
   ]
  },
  {
   "cell_type": "code",
   "execution_count": 21,
   "id": "9016126ab8639f73",
   "metadata": {
    "ExecuteTime": {
     "start_time": "2024-09-19T20:10:54.870963Z"
    },
    "collapsed": false
   },
   "outputs": [],
   "source": [
    "def PCA(data_before_pca, n_principal_components):\n",
    "    covariance_matrix = np.dot(data_before_pca.T, data_before_pca)\n",
    "    eigenvalues, eigenvectors = np.linalg.eig(covariance_matrix)\n",
    "    indices = np.argsort(eigenvalues)[::-1]\n",
    "    eigenvalues = eigenvalues[indices]\n",
    "    eigenvectors = eigenvectors[indices]\n",
    "    components = eigenvectors[:, :n_principal_components]\n",
    "    \n",
    "    data_after_pca = np.dot(data_before_pca, components)\n",
    "    \n",
    "    return data_after_pca, eigenvectors[:n_principal_components] "
   ]
  },
  {
   "cell_type": "code",
   "execution_count": 22,
   "id": "ccb8d88aef9defac",
   "metadata": {
    "ExecuteTime": {
     "start_time": "2024-09-19T20:10:54.873137Z"
    },
    "collapsed": false
   },
   "outputs": [],
   "source": [
    "pca_transformed_data, top_eigenvalues = PCA(normalized_data, 4)"
   ]
  },
  {
   "cell_type": "code",
   "execution_count": 23,
   "id": "6dcc19103726ee95",
   "metadata": {
    "ExecuteTime": {
     "start_time": "2024-09-19T20:10:54.874276Z"
    },
    "collapsed": false
   },
   "outputs": [
    {
     "data": {
      "text/plain": [
       "array([[-1.73864934, -0.37510514, -0.36458072, -0.25849118],\n",
       "       [ 8.12407994,  1.14390919, -1.90952603,  0.33827447],\n",
       "       [ 1.38638276,  0.31307967,  0.12591414,  0.13767397],\n",
       "       ...,\n",
       "       [-0.12002671,  0.30739413,  3.01892774, -2.5399854 ],\n",
       "       [-0.4864626 , -1.59798679,  4.54223475, -2.97407417],\n",
       "       [ 0.37858034,  0.83722512, -4.89169555,  3.29943755]])"
      ]
     },
     "execution_count": 23,
     "metadata": {},
     "output_type": "execute_result"
    }
   ],
   "source": [
    "pca_transformed_data"
   ]
  },
  {
   "cell_type": "code",
   "execution_count": 24,
   "id": "37cf858ca4378c7d",
   "metadata": {
    "ExecuteTime": {
     "start_time": "2024-09-19T20:10:54.875402Z"
    },
    "collapsed": false
   },
   "outputs": [
    {
     "data": {
      "text/plain": [
       "array([[ 6.94158769e-02, -1.23599362e-01, -4.29133480e-02,\n",
       "         1.12102030e-01,  1.26372375e-01, -3.31753769e-02,\n",
       "        -1.03016572e-01, -2.60132001e-02, -8.83883476e-02,\n",
       "         1.66272181e-01, -1.63837046e-01,  1.12720684e-03,\n",
       "        -1.36631389e-01, -5.02509035e-02, -7.59787013e-02,\n",
       "        -1.26286259e-01,  1.54312139e-01, -9.61187849e-02,\n",
       "        -5.80218624e-02, -5.37720069e-02,  2.98135795e-03,\n",
       "        -1.21780296e-01,  6.67449116e-02, -2.09694833e-03,\n",
       "        -3.94752561e-02, -1.73554981e-02, -7.35801648e-02,\n",
       "        -7.23668310e-02,  2.91160484e-01,  5.55655040e-03,\n",
       "         1.19675456e-01,  5.19197838e-02, -2.69449648e-02,\n",
       "         5.46720778e-02,  1.04869584e-01, -8.01282252e-02,\n",
       "        -4.24880096e-02, -8.54283736e-02, -5.28886005e-02,\n",
       "        -1.38515321e-01, -1.34876471e-01, -7.58007635e-02,\n",
       "        -1.07406053e-01,  1.09252945e-02,  5.74430748e-02,\n",
       "        -3.59853772e-02, -5.61597395e-02, -5.59656849e-02,\n",
       "         7.68358944e-02, -1.63092063e-01, -1.06789994e-01,\n",
       "         3.95586018e-02,  8.07885557e-03,  1.11818181e-01,\n",
       "         1.15026490e-01,  3.12062567e-02,  1.70015389e-02,\n",
       "         8.33313019e-02,  7.87804100e-02, -5.25456756e-02,\n",
       "        -5.93764403e-02,  7.42402448e-03,  4.83538666e-02,\n",
       "        -1.40858514e-01, -5.57861552e-03,  2.34230815e-02,\n",
       "        -5.10890985e-03,  1.09516174e-01,  4.96719027e-03,\n",
       "        -3.61798149e-02,  3.61330716e-02,  5.39471973e-02,\n",
       "         2.34585761e-02,  6.90405393e-02, -9.88336660e-03,\n",
       "         2.86867338e-03,  3.95889146e-02,  3.11654415e-02,\n",
       "        -1.44287003e-03,  7.10612839e-02, -2.89081326e-02,\n",
       "         1.49565717e-01, -2.88075995e-02, -1.48806226e-02,\n",
       "         8.47578776e-02,  3.68526411e-02,  5.76809931e-02,\n",
       "         4.03617388e-02,  8.01574742e-02,  2.10142105e-02,\n",
       "         1.11945739e-02,  1.01436570e-01,  4.70796790e-02,\n",
       "        -1.82296554e-02,  1.38523241e-01, -2.16343825e-02,\n",
       "        -1.47218679e-01, -6.82140227e-02,  4.83032353e-02,\n",
       "         6.18400349e-02,  1.37787215e-01, -1.83142957e-01,\n",
       "        -1.03966313e-01, -8.88576343e-02, -2.42564308e-02,\n",
       "         1.04795553e-01, -6.23853747e-02,  6.55438522e-02,\n",
       "        -1.07847911e-01, -1.19347310e-01, -3.20128837e-02,\n",
       "        -1.11659447e-01,  1.10468364e-01, -1.08766044e-01,\n",
       "         6.50716572e-02, -2.29387198e-01,  1.07879474e-01,\n",
       "         1.53408452e-01, -9.46153588e-02,  1.53614384e-01,\n",
       "        -5.63673485e-02, -4.53902565e-02, -2.44797074e-03,\n",
       "         1.14423615e-01,  7.41453728e-02,  4.68594886e-02,\n",
       "         3.02202236e-03,  1.36550303e-02],\n",
       "       [ 7.59179815e-02, -1.20358235e-01, -5.24921978e-02,\n",
       "         1.14244867e-01,  1.20935111e-01, -1.65659203e-02,\n",
       "        -1.06937775e-01,  6.36323619e-04, -8.83883476e-02,\n",
       "        -2.76817892e-01, -7.84584646e-02, -1.29278544e-01,\n",
       "        -6.40394194e-02, -1.13367438e-01,  9.29923116e-02,\n",
       "        -1.77785610e-01,  2.69440478e-02, -1.77613556e-03,\n",
       "         4.83679128e-02,  2.65738840e-02,  1.01111618e-01,\n",
       "        -4.89611590e-02,  1.41032941e-01, -1.59794080e-01,\n",
       "         1.46310104e-01, -4.53688877e-02,  3.02750913e-02,\n",
       "         9.30482967e-02,  1.23273914e-01,  1.28852502e-01,\n",
       "        -1.52238540e-01,  1.54112228e-02,  3.74255264e-04,\n",
       "        -1.82928333e-02, -2.97613538e-02,  1.76151605e-01,\n",
       "         4.20092681e-02, -7.59313653e-02,  3.59691858e-02,\n",
       "         1.62715734e-01, -2.11399154e-03,  9.79485055e-02,\n",
       "         5.31101615e-02, -1.21799164e-01, -9.95657057e-02,\n",
       "         6.72600355e-02, -4.85515366e-02, -9.22206288e-02,\n",
       "         3.10001195e-03,  2.29096811e-02,  5.25328530e-02,\n",
       "        -1.54176491e-01, -8.75114087e-02,  1.20432899e-02,\n",
       "        -7.23562527e-02,  5.79420430e-03, -1.82952644e-01,\n",
       "         5.48948618e-02,  4.16874269e-02, -3.43628208e-02,\n",
       "        -4.64757036e-02, -1.16585818e-01,  4.66508876e-02,\n",
       "        -3.54822122e-02,  4.99939182e-02, -9.51424829e-03,\n",
       "         7.37087929e-02, -3.29329311e-02,  6.05547745e-02,\n",
       "        -7.75195233e-03,  9.89530058e-02,  9.31789070e-02,\n",
       "         4.51248843e-02,  3.99025839e-02, -1.83182420e-01,\n",
       "         4.01391498e-02, -7.66706508e-03, -9.28162258e-02,\n",
       "        -2.36292230e-02, -3.60013512e-02,  1.26399231e-01,\n",
       "        -7.84327910e-02,  5.84689330e-02,  1.35912151e-01,\n",
       "        -1.09995511e-01, -1.35737541e-02,  8.70425225e-02,\n",
       "         2.60834317e-02, -8.87801839e-02,  8.04515313e-03,\n",
       "         5.98751164e-02, -4.07095325e-02,  6.23302809e-03,\n",
       "         5.01011745e-02, -8.96087675e-02,  7.34779749e-02,\n",
       "        -1.33352427e-02,  1.19553412e-02,  1.22855602e-01,\n",
       "        -1.76246988e-01,  2.89859783e-02, -2.48941794e-02,\n",
       "        -6.26581117e-02,  5.12801813e-02,  1.43386276e-02,\n",
       "        -1.16751656e-01,  7.48866592e-02,  7.10706685e-02,\n",
       "         1.77747445e-01, -1.49561604e-01, -5.51335376e-02,\n",
       "        -6.09767309e-02, -1.43846434e-01, -3.45999857e-02,\n",
       "         1.32458835e-01, -7.37659483e-02,  7.15054718e-02,\n",
       "        -2.45871659e-02,  5.62609755e-02,  9.02911585e-02,\n",
       "         9.89666858e-02, -3.43079613e-02, -1.45682452e-02,\n",
       "        -8.70519000e-02,  4.96911723e-02, -2.23858416e-02,\n",
       "        -3.88154536e-02, -7.04827995e-02],\n",
       "       [ 7.84027101e-02, -1.16660108e-01, -5.86212248e-02,\n",
       "         1.10976275e-01,  1.16205715e-01, -1.65963726e-04,\n",
       "        -1.12432808e-01,  2.80608740e-02, -8.83883476e-02,\n",
       "        -1.28461769e-01, -9.78844746e-02,  1.06937224e-01,\n",
       "        -1.93668071e-02, -1.63993091e-02, -3.37280025e-02,\n",
       "         4.43633974e-02,  2.66551399e-01,  7.50871284e-02,\n",
       "         1.02849061e-01,  8.15608787e-02, -3.84925227e-02,\n",
       "         4.08814585e-03, -3.88555311e-02,  2.90046616e-02,\n",
       "         6.52707815e-02,  9.17859513e-02,  6.88290140e-02,\n",
       "        -8.57366946e-02, -1.04326793e-01, -2.45059776e-02,\n",
       "         9.89185623e-03, -9.83429721e-02,  3.26439597e-02,\n",
       "         9.95756724e-02,  2.28176561e-02, -7.58426198e-02,\n",
       "        -7.50900903e-02, -5.15392914e-02, -4.67016375e-02,\n",
       "        -3.66799435e-02,  1.09376571e-01,  9.07693053e-02,\n",
       "         3.56967944e-03,  4.21884646e-02,  4.21402705e-02,\n",
       "         7.24884515e-02, -3.45248173e-02, -1.64753444e-01,\n",
       "        -6.39742597e-02,  1.82590680e-01,  2.10711711e-02,\n",
       "         2.19424556e-02,  9.64085420e-02,  2.73995080e-02,\n",
       "         2.44764341e-01,  1.42970967e-01,  4.48577901e-02,\n",
       "         1.75573293e-01, -1.40119906e-01, -2.78973348e-02,\n",
       "         6.77522170e-02,  6.79433823e-02, -4.86083557e-02,\n",
       "        -1.23514839e-01, -1.93796669e-02,  1.00283555e-01,\n",
       "        -2.49272621e-02, -1.12346735e-02, -1.29065301e-01,\n",
       "         5.26023124e-02,  6.91917573e-02,  1.47531838e-02,\n",
       "        -5.31209446e-02, -6.42624465e-02,  1.41167725e-01,\n",
       "        -4.53769447e-02, -4.92220096e-02, -1.17031374e-01,\n",
       "         2.09307923e-02, -9.88355560e-02,  5.61851795e-02,\n",
       "         5.47697612e-02,  1.12903892e-01, -9.54924152e-02,\n",
       "        -7.52506765e-02,  1.27157410e-01, -7.54101451e-02,\n",
       "        -7.55971072e-02, -1.01045843e-01,  2.00664523e-03,\n",
       "        -1.84935624e-01,  8.61064114e-02,  9.46860762e-02,\n",
       "        -6.55161631e-02,  9.92768461e-02, -1.19210753e-02,\n",
       "         5.19479066e-03,  1.62806771e-03, -3.45019699e-02,\n",
       "         1.18681780e-01, -5.74791258e-02, -5.76507423e-02,\n",
       "        -8.16951623e-02,  1.57459013e-01,  1.09318078e-02,\n",
       "        -9.92467708e-02,  3.40638982e-02,  1.06706674e-03,\n",
       "         4.52358883e-02,  1.08578909e-01,  7.42704890e-02,\n",
       "         1.29724992e-01, -4.80510970e-02,  1.07077872e-02,\n",
       "        -3.95862833e-02,  6.00638567e-03,  1.13525475e-01,\n",
       "        -5.51683006e-02,  2.03313327e-01, -1.77202058e-02,\n",
       "         1.01571017e-01, -2.81877160e-02,  1.85143139e-01,\n",
       "        -3.03775239e-02,  7.30826372e-02, -3.81349581e-02,\n",
       "         3.87889190e-02,  7.25985019e-02],\n",
       "       [ 8.47850649e-02, -1.08799785e-01, -6.53965639e-02,\n",
       "         1.02695607e-01,  1.13165871e-01,  1.58343578e-02,\n",
       "        -1.13979927e-01,  5.16151147e-02, -8.83883476e-02,\n",
       "         2.48282351e-03,  5.81516606e-02, -9.73579074e-02,\n",
       "         3.04924393e-02, -5.18736380e-02,  1.00926601e-01,\n",
       "        -3.90253001e-02,  1.55196887e-02, -4.75291001e-02,\n",
       "         2.40436278e-02, -6.27004332e-02,  4.18140343e-02,\n",
       "         2.13881108e-01,  5.01143644e-02,  1.83257075e-01,\n",
       "         1.23686516e-01,  5.81231901e-02,  1.79513331e-01,\n",
       "        -3.17274468e-02, -9.78618291e-02, -2.21366163e-01,\n",
       "         1.61401370e-01,  2.78198100e-02,  5.35493463e-02,\n",
       "         9.43695328e-02,  9.38580252e-02, -2.09184379e-02,\n",
       "         2.66811331e-02, -2.20778282e-02, -7.41761372e-03,\n",
       "        -7.01467542e-02, -9.51492477e-02, -1.04315669e-01,\n",
       "         4.54034355e-02,  2.91751514e-02,  2.33898009e-02,\n",
       "        -1.69103076e-02, -7.25463432e-02,  3.15518961e-02,\n",
       "         2.19426474e-01,  6.28295169e-02,  1.37631285e-01,\n",
       "         3.10608536e-02,  2.10996065e-02, -1.70612039e-02,\n",
       "        -5.19932992e-02, -4.91667934e-02,  3.16088509e-02,\n",
       "        -1.86521443e-01, -1.36438349e-01,  8.48254772e-02,\n",
       "        -1.23457643e-02,  1.24221139e-01,  8.31719706e-03,\n",
       "         2.43927036e-02,  1.92411252e-01, -1.53287041e-01,\n",
       "         7.93164792e-02,  8.44018226e-03, -9.13823463e-02,\n",
       "        -1.37188167e-01, -8.80736649e-02,  4.50214026e-02,\n",
       "         1.29263487e-01, -8.01271703e-02,  1.40894904e-01,\n",
       "        -1.44126565e-01, -7.87935631e-03,  6.66533024e-02,\n",
       "        -1.93734130e-02, -8.59507205e-02,  2.15161530e-02,\n",
       "         7.71663809e-02, -9.24219613e-02,  4.26236585e-02,\n",
       "        -1.76946170e-02, -7.40658522e-02,  1.82129608e-02,\n",
       "        -1.49323980e-01,  2.92786811e-02,  4.58540651e-02,\n",
       "         2.24238607e-02, -1.33579948e-01, -9.54725274e-02,\n",
       "        -8.23638704e-02, -6.30935015e-02, -4.93065711e-02,\n",
       "        -1.12102341e-01,  5.70987367e-02, -3.61553765e-02,\n",
       "        -2.90744524e-02,  2.60541705e-02,  5.06949477e-02,\n",
       "        -6.59884697e-02,  4.32165556e-02, -4.93298659e-02,\n",
       "         2.14108636e-02,  1.91794393e-03, -1.58174949e-02,\n",
       "         9.33623615e-02,  1.43792512e-02, -1.25909390e-01,\n",
       "        -6.91467527e-02, -1.59575003e-01, -4.69173865e-02,\n",
       "         1.78188141e-02, -1.03721770e-01,  8.51288701e-02,\n",
       "        -1.54690522e-01, -2.82005290e-02, -6.92716695e-02,\n",
       "        -2.77229712e-02, -3.86674537e-02, -1.51975317e-01,\n",
       "         6.40143939e-02,  4.03478693e-02,  7.71921586e-02,\n",
       "         7.08325611e-02, -1.19465465e-01]])"
      ]
     },
     "execution_count": 24,
     "metadata": {},
     "output_type": "execute_result"
    }
   ],
   "source": [
    "top_eigenvalues"
   ]
  },
  {
   "cell_type": "code",
   "execution_count": 25,
   "id": "201d0897cfe0105a",
   "metadata": {
    "collapsed": false
   },
   "outputs": [],
   "source": [
    "pca_transformed_distance_matrix = construct_euclidean_distance_matrix(pd.DataFrame(pca_transformed_data))"
   ]
  },
  {
   "cell_type": "code",
   "execution_count": null,
   "id": "3c8d334345f111ac",
   "metadata": {
    "ExecuteTime": {
     "start_time": "2024-09-19T19:55:15.939357Z"
    },
    "collapsed": false
   },
   "outputs": [],
   "source": [
    "np.savetxt('pca_transformed_distance_matrix.csv', pca_transformed_distance_matrix, delimiter=',', fmt='%.6f')\n",
    "np.savetxt('wavelet_transformed_distance_matrix.csv', wavelet_transformed_distance_matrix, delimiter=',', fmt='%.6f')"
   ]
  },
  {
   "cell_type": "code",
   "execution_count": 40,
   "id": "6fe0faff768a8972",
   "metadata": {
    "ExecuteTime": {
     "end_time": "2024-09-15T01:31:56.500541Z",
     "start_time": "2024-09-15T01:31:56.491187Z"
    },
    "collapsed": false
   },
   "outputs": [
    {
     "ename": "TypeError",
     "evalue": "object of type 'NoneType' has no len()",
     "output_type": "error",
     "traceback": [
      "\u001b[1;31m---------------------------------------------------------------------------\u001b[0m",
      "\u001b[1;31mTypeError\u001b[0m                                 Traceback (most recent call last)",
      "Cell \u001b[1;32mIn[40], line 1\u001b[0m\n\u001b[1;32m----> 1\u001b[0m \u001b[38;5;28;43mlen\u001b[39;49m\u001b[43m(\u001b[49m\u001b[43mpca_transformed_distance_matrix\u001b[49m\u001b[43m)\u001b[49m\n",
      "\u001b[1;31mTypeError\u001b[0m: object of type 'NoneType' has no len()"
     ]
    }
   ],
   "source": [
    "len(pca_transformed_distance_matrix)"
   ]
  },
  {
   "cell_type": "code",
   "execution_count": 7,
   "id": "b3a8b701bec6311a",
   "metadata": {
    "ExecuteTime": {
     "end_time": "2024-09-19T20:39:47.604201Z",
     "start_time": "2024-09-19T20:39:47.595833Z"
    },
    "collapsed": false
   },
   "outputs": [
    {
     "ename": "SyntaxError",
     "evalue": "invalid syntax. Maybe you meant '==' or ':=' instead of '='? (2222891630.py, line 2)",
     "output_type": "error",
     "traceback": [
      "\u001b[1;36m  Cell \u001b[1;32mIn[7], line 2\u001b[1;36m\u001b[0m\n\u001b[1;33m    row1 = -1, col1 = -2, row2 = -1, col2 = -2\u001b[0m\n\u001b[1;37m    ^\u001b[0m\n\u001b[1;31mSyntaxError\u001b[0m\u001b[1;31m:\u001b[0m invalid syntax. Maybe you meant '==' or ':=' instead of '='?\n"
     ]
    }
   ],
   "source": [
    "def generate_random_pairs(matrix_size):\n",
    "    row1 = -1, col1 = -2, row2 = -1, col2 = -2\n",
    "    \n",
    "    while (row1 == row2 and col1 == col2) or (row1 == col1 and row2 == col1):\n",
    "        row1, col1 = random.randint(0, matrix_size-1), random.randint(0, matrix_size-1)\n",
    "        row2, col2 = random.randint(0, matrix_size-1), random.randint(0, matrix_size-1)\n",
    "    return (row1, col1), (row2, col2)\n",
    "\n",
    "def compare_random_cells(matrix_list, n):\n",
    "    matrix_size = len(matrices[0])\n",
    "    for _ in range(n):\n",
    "        pair1, pair2 = generate_random_pairs(matrix_size)\n",
    "        \n",
    "        for idx, matrix in enumerate(matrices):\n",
    "            cell1 = matrix[pair1[0]][pair1[1]]\n",
    "            cell2 = matrix[pair2[0]][pair2[1]]\n",
    "            print(f\"Matrix {idx+1} Comparison: Cell {pair1} = {cell1}, Cell {pair2} = {cell2}\")"
   ]
  },
  {
   "cell_type": "code",
   "execution_count": 15,
   "id": "53c7aa8944ce0c70",
   "metadata": {
    "ExecuteTime": {
     "end_time": "2024-09-19T20:44:13.976529Z",
     "start_time": "2024-09-19T20:44:12.931643Z"
    },
    "collapsed": false
   },
   "outputs": [
    {
     "ename": "NameError",
     "evalue": "name 'normalized_distance_matrix' is not defined",
     "output_type": "error",
     "traceback": [
      "\u001b[1;31m---------------------------------------------------------------------------\u001b[0m",
      "\u001b[1;31mNameError\u001b[0m                                 Traceback (most recent call last)",
      "Cell \u001b[1;32mIn[15], line 1\u001b[0m\n\u001b[1;32m----> 1\u001b[0m matrices \u001b[38;5;241m=\u001b[39m [\u001b[43mnormalized_distance_matrix\u001b[49m, wavelet_transformed_distance_matrix, pca_transformed_distance_matrix]\n",
      "\u001b[1;31mNameError\u001b[0m: name 'normalized_distance_matrix' is not defined"
     ]
    }
   ],
   "source": [
    "matrices = [normalized_distance_matrix, wavelet_transformed_distance_matrix, pca_transformed_distance_matrix]"
   ]
  },
  {
   "cell_type": "code",
   "execution_count": null,
   "id": "28f8eed2",
   "metadata": {},
   "outputs": [],
   "source": []
  }
 ],
 "metadata": {
  "kernelspec": {
   "display_name": "venv",
   "language": "python",
   "name": "python3"
  },
  "language_info": {
   "codemirror_mode": {
    "name": "ipython",
    "version": 3
   },
   "file_extension": ".py",
   "mimetype": "text/x-python",
   "name": "python",
   "nbconvert_exporter": "python",
   "pygments_lexer": "ipython3",
   "version": "3.12.4"
  }
 },
 "nbformat": 4,
 "nbformat_minor": 5
}
