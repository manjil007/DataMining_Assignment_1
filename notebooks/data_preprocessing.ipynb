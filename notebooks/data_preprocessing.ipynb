{
 "cells": [
  {
   "cell_type": "code",
   "execution_count": 16,
   "id": "initial_id",
   "metadata": {
    "collapsed": true,
    "ExecuteTime": {
     "end_time": "2024-09-19T20:44:31.148389Z",
     "start_time": "2024-09-19T20:44:31.143225Z"
    }
   },
   "outputs": [],
   "source": [
    "import pandas as pd\n",
    "import numpy as np\n",
    "import math\n",
    "import random"
   ]
  },
  {
   "cell_type": "code",
   "outputs": [],
   "source": [
    "df = pd.read_csv('../data/Asgmnt1_data.csv',header=None)"
   ],
   "metadata": {
    "collapsed": false,
    "ExecuteTime": {
     "end_time": "2024-09-19T20:44:36.064885Z",
     "start_time": "2024-09-19T20:44:35.821538Z"
    }
   },
   "id": "cc2bc9bb95684938",
   "execution_count": 17
  },
  {
   "cell_type": "code",
   "outputs": [
    {
     "data": {
      "text/plain": "(16000, 128)"
     },
     "execution_count": 18,
     "metadata": {},
     "output_type": "execute_result"
    }
   ],
   "source": [
    "df.shape"
   ],
   "metadata": {
    "collapsed": false,
    "ExecuteTime": {
     "end_time": "2024-09-19T20:44:36.838105Z",
     "start_time": "2024-09-19T20:44:36.833111Z"
    }
   },
   "id": "e9eaddfc9ef7188",
   "execution_count": 18
  },
  {
   "cell_type": "code",
   "outputs": [],
   "source": [
    "normalized_rows = []\n",
    "number_rows = df.shape[0]\n",
    "\n",
    "for i in range(number_rows):\n",
    "    normalized_row = []\n",
    "    row_values = df.iloc[i, :]\n",
    "    \n",
    "    mean = row_values.mean()\n",
    "    std = row_values.std(ddof=1)\n",
    "    \n",
    "    for val in row_values:\n",
    "        normalized_val = (val - mean) / std\n",
    "        normalized_row.append(normalized_val)\n",
    "        \n",
    "    normalized_rows.append(pd.Series(normalized_row, index=df.columns, name=df.index[i]))\n",
    "    \n",
    "normalized_data = pd.concat(normalized_rows, axis=1).T"
   ],
   "metadata": {
    "collapsed": false,
    "ExecuteTime": {
     "end_time": "2024-09-19T20:44:46.835915Z",
     "start_time": "2024-09-19T20:44:42.967614Z"
    }
   },
   "id": "2014daf6281ee5c",
   "execution_count": 19
  },
  {
   "cell_type": "code",
   "outputs": [
    {
     "data": {
      "text/plain": "(16000, 128)"
     },
     "execution_count": 20,
     "metadata": {},
     "output_type": "execute_result"
    }
   ],
   "source": [
    "normalized_data.shape"
   ],
   "metadata": {
    "collapsed": false,
    "ExecuteTime": {
     "end_time": "2024-09-19T20:44:46.841221Z",
     "start_time": "2024-09-19T20:44:46.837100Z"
    }
   },
   "id": "909b7f332975e20f",
   "execution_count": 20
  },
  {
   "cell_type": "code",
   "outputs": [],
   "source": [
    "def calculate_euclidean_distance(row1, row2):\n",
    "    sum_square = 0\n",
    "    for (val1, val2) in zip(row1, row2):\n",
    "        sum_square += (val1 - val2) ** 2\n",
    "    \n",
    "    return math.sqrt(sum_square)"
   ],
   "metadata": {
    "collapsed": false,
    "ExecuteTime": {
     "end_time": "2024-09-19T20:45:19.352470Z",
     "start_time": "2024-09-19T20:45:19.343789Z"
    }
   },
   "id": "a0e5f7602ec042b0",
   "execution_count": 21
  },
  {
   "cell_type": "code",
   "outputs": [],
   "source": [
    "def construct_euclidean_distance_matrix(dataframe):\n",
    "    n = dataframe.shape[0]\n",
    "    distance_matrix = np.zeros((n, n))\n",
    "    for i in range(n):\n",
    "        for j in range(i, n):\n",
    "            distance = calculate_euclidean_distance(dataframe.iloc[i], dataframe.iloc[j])\n",
    "            distance_matrix[i, j] = distance\n",
    "            distance_matrix[j, i] = distance\n",
    "    \n",
    "    return distance_matrix\n"
   ],
   "metadata": {
    "collapsed": false,
    "ExecuteTime": {
     "end_time": "2024-09-19T20:45:20.289091Z",
     "start_time": "2024-09-19T20:45:20.284144Z"
    }
   },
   "id": "5b541d3f7d4795c9",
   "execution_count": 22
  },
  {
   "cell_type": "code",
   "outputs": [],
   "source": [
    "normalized_distance_matrix = construct_euclidean_distance_matrix(normalized_data)\n",
    "np.savetxt(\"distances.csv\", normalized_distance_matrix, delimiter=',', fmt='%.6f')"
   ],
   "metadata": {
    "collapsed": false,
    "is_executing": true,
    "ExecuteTime": {
     "start_time": "2024-09-19T20:45:21.657113Z"
    }
   },
   "id": "8fcd30d652095c5c",
   "execution_count": null
  },
  {
   "cell_type": "code",
   "outputs": [],
   "source": [
    "normalized_distance_matrix.shape"
   ],
   "metadata": {
    "collapsed": false,
    "is_executing": true
   },
   "id": "2ae579a9728684e0",
   "execution_count": null
  },
  {
   "cell_type": "code",
   "outputs": [],
   "source": [
    "def haar_non_square_matrix(m, n):\n",
    "    if n < m:\n",
    "        raise ValueError(\"Number of columns must be greater than or equal to the number of rows\")\n",
    "    \n",
    "    H = np.zeros((m, n))\n",
    "\n",
    "    # First row is all ones\n",
    "    H[0, :] = 1 / np.sqrt(n)\n",
    "    \n",
    "    # Build the rest of the matrix\n",
    "    for level in range(1, m):\n",
    "        step = n // (2 ** level)\n",
    "        if step == 0:\n",
    "            break  # Stop if the step becomes zero (more rows than meaningful steps)\n",
    "        \n",
    "        for i in range(0, n, 2 * step):\n",
    "            H[level, i:i + step] = 1 / np.sqrt(step)\n",
    "            H[level, i + step:i + 2 * step] = -1 / np.sqrt(step)\n",
    "    \n",
    "    return H"
   ],
   "metadata": {
    "collapsed": false,
    "ExecuteTime": {
     "start_time": "2024-09-19T20:10:54.863168Z"
    }
   },
   "id": "9afceece7d0cedc6",
   "execution_count": null
  },
  {
   "cell_type": "code",
   "outputs": [],
   "source": [
    "h = haar_non_square_matrix(128, 16000).T"
   ],
   "metadata": {
    "collapsed": false
   },
   "id": "6fcb79c3e459d8d8",
   "execution_count": null
  },
  {
   "cell_type": "code",
   "outputs": [],
   "source": [
    "wavelet_transformed_normalized_data = normalized_data * h"
   ],
   "metadata": {
    "collapsed": false
   },
   "id": "9eeac1ae977f1000",
   "execution_count": null
  },
  {
   "cell_type": "code",
   "outputs": [],
   "source": [
    "wavelet_transformed_normalized_data.shape"
   ],
   "metadata": {
    "collapsed": false
   },
   "id": "5a254c55c99a4be2",
   "execution_count": null
  },
  {
   "cell_type": "code",
   "outputs": [],
   "source": [
    "wavelet_transformed_distance_matrix = construct_euclidean_distance_matrix(wavelet_transformed_normalized_data.iloc[:, :4])"
   ],
   "metadata": {
    "collapsed": false,
    "ExecuteTime": {
     "start_time": "2024-09-19T20:10:54.868758Z"
    }
   },
   "id": "c2c63a4b88e06b67",
   "execution_count": null
  },
  {
   "cell_type": "code",
   "outputs": [],
   "source": [
    "def PCA(data_before_pca, n_principal_components):\n",
    "    covariance_matrix = np.dot(data_before_pca.T, data_before_pca)\n",
    "    eigenvalues, eigenvectors = np.linalg.eig(covariance_matrix)\n",
    "    indices = np.argsort(eigenvalues)[::-1]\n",
    "    eigenvalues = eigenvalues[indices]\n",
    "    eigenvectors = eigenvectors[indices]\n",
    "    components = eigenvectors[:, :n_principal_components]\n",
    "    \n",
    "    data_after_pca = np.dot(data_before_pca, components)\n",
    "    \n",
    "    return data_after_pca, eigenvectors[:n_principal_components] "
   ],
   "metadata": {
    "collapsed": false,
    "ExecuteTime": {
     "start_time": "2024-09-19T20:10:54.870963Z"
    }
   },
   "id": "9016126ab8639f73",
   "execution_count": null
  },
  {
   "cell_type": "code",
   "outputs": [],
   "source": [
    "pca_transformed_data, top_eigenvalues = PCA(normalized_data, 4)"
   ],
   "metadata": {
    "collapsed": false,
    "ExecuteTime": {
     "start_time": "2024-09-19T20:10:54.873137Z"
    }
   },
   "id": "ccb8d88aef9defac",
   "execution_count": null
  },
  {
   "cell_type": "code",
   "outputs": [],
   "source": [
    "pca_transformed_data"
   ],
   "metadata": {
    "collapsed": false,
    "ExecuteTime": {
     "start_time": "2024-09-19T20:10:54.874276Z"
    }
   },
   "id": "6dcc19103726ee95",
   "execution_count": null
  },
  {
   "cell_type": "code",
   "outputs": [],
   "source": [
    "top_eigenvalues"
   ],
   "metadata": {
    "collapsed": false,
    "ExecuteTime": {
     "start_time": "2024-09-19T20:10:54.875402Z"
    }
   },
   "id": "37cf858ca4378c7d",
   "execution_count": null
  },
  {
   "cell_type": "code",
   "outputs": [],
   "source": [
    "pca_transformed_distance_matrix = construct_euclidean_distance_matrix(pd.DataFrame(pca_transformed_data))"
   ],
   "metadata": {
    "collapsed": false
   },
   "id": "201d0897cfe0105a",
   "execution_count": null
  },
  {
   "cell_type": "code",
   "outputs": [],
   "source": [
    "np.savetxt('pca_transformed_distance_matrix.csv', pca_transformed_distance_matrix, delimiter=',', fmt='%.6f')\n",
    "np.savetxt('pwavelet_transformed_distance_matrix.csv', wavelet_transformed_distance_matrix, delimiter=',', fmt='%.6f')"
   ],
   "metadata": {
    "collapsed": false,
    "ExecuteTime": {
     "start_time": "2024-09-19T19:55:15.939357Z"
    }
   },
   "id": "3c8d334345f111ac",
   "execution_count": null
  },
  {
   "cell_type": "code",
   "outputs": [
    {
     "ename": "TypeError",
     "evalue": "object of type 'NoneType' has no len()",
     "output_type": "error",
     "traceback": [
      "\u001B[1;31m---------------------------------------------------------------------------\u001B[0m",
      "\u001B[1;31mTypeError\u001B[0m                                 Traceback (most recent call last)",
      "Cell \u001B[1;32mIn[40], line 1\u001B[0m\n\u001B[1;32m----> 1\u001B[0m \u001B[38;5;28;43mlen\u001B[39;49m\u001B[43m(\u001B[49m\u001B[43mpca_transformed_distance_matrix\u001B[49m\u001B[43m)\u001B[49m\n",
      "\u001B[1;31mTypeError\u001B[0m: object of type 'NoneType' has no len()"
     ]
    }
   ],
   "source": [
    "len(pca_transformed_distance_matrix)"
   ],
   "metadata": {
    "collapsed": false,
    "ExecuteTime": {
     "end_time": "2024-09-15T01:31:56.500541Z",
     "start_time": "2024-09-15T01:31:56.491187Z"
    }
   },
   "id": "6fe0faff768a8972",
   "execution_count": 40
  },
  {
   "cell_type": "code",
   "outputs": [
    {
     "ename": "SyntaxError",
     "evalue": "invalid syntax. Maybe you meant '==' or ':=' instead of '='? (2222891630.py, line 2)",
     "output_type": "error",
     "traceback": [
      "\u001B[1;36m  Cell \u001B[1;32mIn[7], line 2\u001B[1;36m\u001B[0m\n\u001B[1;33m    row1 = -1, col1 = -2, row2 = -1, col2 = -2\u001B[0m\n\u001B[1;37m    ^\u001B[0m\n\u001B[1;31mSyntaxError\u001B[0m\u001B[1;31m:\u001B[0m invalid syntax. Maybe you meant '==' or ':=' instead of '='?\n"
     ]
    }
   ],
   "source": [
    "def generate_random_pairs(matrix_size):\n",
    "    row1 = -1, col1 = -2, row2 = -1, col2 = -2\n",
    "    \n",
    "    while (row1 == row2 and col1 == col2) or (row1 == col1 and row2 == col1):\n",
    "        row1, col1 = random.randint(0, matrix_size-1), random.randint(0, matrix_size-1)\n",
    "        row2, col2 = random.randint(0, matrix_size-1), random.randint(0, matrix_size-1)\n",
    "    return (row1, col1), (row2, col2)\n",
    "\n",
    "def compare_random_cells(matrix_list, n):\n",
    "    matrix_size = len(matrices[0])\n",
    "    for _ in range(n):\n",
    "        pair1, pair2 = generate_random_pairs(matrix_size)\n",
    "        \n",
    "        for idx, matrix in enumerate(matrices):\n",
    "            cell1 = matrix[pair1[0]][pair1[1]]\n",
    "            cell2 = matrix[pair2[0]][pair2[1]]\n",
    "            print(f\"Matrix {idx+1} Comparison: Cell {pair1} = {cell1}, Cell {pair2} = {cell2}\")"
   ],
   "metadata": {
    "collapsed": false,
    "ExecuteTime": {
     "end_time": "2024-09-19T20:39:47.604201Z",
     "start_time": "2024-09-19T20:39:47.595833Z"
    }
   },
   "id": "b3a8b701bec6311a",
   "execution_count": 7
  },
  {
   "cell_type": "code",
   "outputs": [
    {
     "ename": "NameError",
     "evalue": "name 'normalized_distance_matrix' is not defined",
     "output_type": "error",
     "traceback": [
      "\u001B[1;31m---------------------------------------------------------------------------\u001B[0m",
      "\u001B[1;31mNameError\u001B[0m                                 Traceback (most recent call last)",
      "Cell \u001B[1;32mIn[15], line 1\u001B[0m\n\u001B[1;32m----> 1\u001B[0m matrices \u001B[38;5;241m=\u001B[39m [\u001B[43mnormalized_distance_matrix\u001B[49m, wavelet_transformed_distance_matrix, pca_transformed_distance_matrix]\n",
      "\u001B[1;31mNameError\u001B[0m: name 'normalized_distance_matrix' is not defined"
     ]
    }
   ],
   "source": [
    "matrices = [normalized_distance_matrix, wavelet_transformed_distance_matrix, pca_transformed_distance_matrix]"
   ],
   "metadata": {
    "collapsed": false,
    "ExecuteTime": {
     "end_time": "2024-09-19T20:44:13.976529Z",
     "start_time": "2024-09-19T20:44:12.931643Z"
    }
   },
   "id": "53c7aa8944ce0c70",
   "execution_count": 15
  }
 ],
 "metadata": {
  "kernelspec": {
   "display_name": "Python 3",
   "language": "python",
   "name": "python3"
  },
  "language_info": {
   "codemirror_mode": {
    "name": "ipython",
    "version": 2
   },
   "file_extension": ".py",
   "mimetype": "text/x-python",
   "name": "python",
   "nbconvert_exporter": "python",
   "pygments_lexer": "ipython2",
   "version": "2.7.6"
  }
 },
 "nbformat": 4,
 "nbformat_minor": 5
}
