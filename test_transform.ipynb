{
 "cells": [
  {
   "cell_type": "code",
   "execution_count": 1,
   "id": "initial_id",
   "metadata": {
    "collapsed": true,
    "ExecuteTime": {
     "end_time": "2024-09-11T23:32:01.110161Z",
     "start_time": "2024-09-11T23:32:00.647079Z"
    }
   },
   "outputs": [],
   "source": [
    "import pandas as pd\n",
    "import numpy as np\n",
    "import math\n",
    "from PIL import Image\n",
    "import matplotlib.pyplot as plt\n",
    "import cmath"
   ]
  },
  {
   "cell_type": "code",
   "outputs": [],
   "source": [
    "image = Image.open('test.jpg').convert('L')"
   ],
   "metadata": {
    "collapsed": false,
    "ExecuteTime": {
     "end_time": "2024-09-11T23:32:01.123123Z",
     "start_time": "2024-09-11T23:32:01.110161Z"
    }
   },
   "id": "5893916cf6f2cce3",
   "execution_count": 2
  },
  {
   "cell_type": "code",
   "outputs": [],
   "source": [
    "image_array = np.array(image)"
   ],
   "metadata": {
    "collapsed": false,
    "ExecuteTime": {
     "end_time": "2024-09-11T23:32:01.126111Z",
     "start_time": "2024-09-11T23:32:01.123123Z"
    }
   },
   "id": "dc4f3d144384d0d6",
   "execution_count": 3
  },
  {
   "cell_type": "code",
   "outputs": [
    {
     "data": {
      "text/plain": "array([[ 96,  96,  96, ..., 167, 165, 163],\n       [ 96,  96,  96, ..., 165, 163, 162],\n       [ 96,  96,  96, ..., 164, 163, 161],\n       ...,\n       [217, 210, 202, ..., 204, 192, 193],\n       [218, 207, 201, ..., 208, 207, 215],\n       [103,  94,  89, ...,  96,  94, 103]], dtype=uint8)"
     },
     "execution_count": 4,
     "metadata": {},
     "output_type": "execute_result"
    }
   ],
   "source": [
    "image_array"
   ],
   "metadata": {
    "collapsed": false,
    "ExecuteTime": {
     "end_time": "2024-09-11T23:32:01.130646Z",
     "start_time": "2024-09-11T23:32:01.126111Z"
    }
   },
   "id": "3b6281e602ae74f9",
   "execution_count": 4
  },
  {
   "cell_type": "code",
   "outputs": [],
   "source": [
    "def discrete_fourier_transform(image):\n",
    "    M,N = image.shape\n",
    "    dft_result = np.zeros((M,N), dtype=complex)\n",
    "    \n",
    "    for u in range(M):\n",
    "        for v in range(N):\n",
    "            sum_real = 0\n",
    "            sum_imag = 0\n",
    "            \n",
    "            for x in range(M):\n",
    "                for y in range(N):\n",
    "                    angle = -2 * math.pi * ((u * x / M) + (v * y / N))\n",
    "                    exp_term = cmath.exp(1j * angle)\n",
    "                    \n",
    "                    # Accumulate the real and imaginary parts\n",
    "                    sum_real += image[x, y] * exp_term.real\n",
    "                    sum_imag += image[x, y] * exp_term.imag\n",
    "                \n",
    "            # Combine real and imaginary parts to get the complex result\n",
    "            dft_result[u, v] = complex(sum_real, sum_imag)\n",
    "            \n",
    "    return dft_result\n",
    "                    "
   ],
   "metadata": {
    "collapsed": false,
    "ExecuteTime": {
     "end_time": "2024-09-11T23:32:01.134707Z",
     "start_time": "2024-09-11T23:32:01.131649Z"
    }
   },
   "id": "a3c7852ce361585e",
   "execution_count": 5
  },
  {
   "cell_type": "code",
   "outputs": [
    {
     "ename": "KeyboardInterrupt",
     "evalue": "",
     "output_type": "error",
     "traceback": [
      "\u001B[1;31m---------------------------------------------------------------------------\u001B[0m",
      "\u001B[1;31mKeyboardInterrupt\u001B[0m                         Traceback (most recent call last)",
      "Cell \u001B[1;32mIn[6], line 2\u001B[0m\n\u001B[0;32m      1\u001B[0m \u001B[38;5;66;03m# Apply the 2D DFT to the image\u001B[39;00m\n\u001B[1;32m----> 2\u001B[0m dft_output \u001B[38;5;241m=\u001B[39m \u001B[43mdiscrete_fourier_transform\u001B[49m\u001B[43m(\u001B[49m\u001B[43mimage_array\u001B[49m\u001B[43m)\u001B[49m\n",
      "Cell \u001B[1;32mIn[5], line 17\u001B[0m, in \u001B[0;36mdiscrete_fourier_transform\u001B[1;34m(image)\u001B[0m\n\u001B[0;32m     15\u001B[0m         \u001B[38;5;66;03m# Accumulate the real and imaginary parts\u001B[39;00m\n\u001B[0;32m     16\u001B[0m         sum_real \u001B[38;5;241m+\u001B[39m\u001B[38;5;241m=\u001B[39m image[x, y] \u001B[38;5;241m*\u001B[39m exp_term\u001B[38;5;241m.\u001B[39mreal\n\u001B[1;32m---> 17\u001B[0m         sum_imag \u001B[38;5;241m+\u001B[39m\u001B[38;5;241m=\u001B[39m image[x, y] \u001B[38;5;241m*\u001B[39m exp_term\u001B[38;5;241m.\u001B[39mimag\n\u001B[0;32m     19\u001B[0m \u001B[38;5;66;03m# Combine real and imaginary parts to get the complex result\u001B[39;00m\n\u001B[0;32m     20\u001B[0m dft_result[u, v] \u001B[38;5;241m=\u001B[39m \u001B[38;5;28mcomplex\u001B[39m(sum_real, sum_imag)\n",
      "\u001B[1;31mKeyboardInterrupt\u001B[0m: "
     ]
    }
   ],
   "source": [
    "# Apply the 2D DFT to the image\n",
    "dft_output = discrete_fourier_transform(image_array)"
   ],
   "metadata": {
    "collapsed": false,
    "ExecuteTime": {
     "end_time": "2024-09-12T00:12:35.586823Z",
     "start_time": "2024-09-11T23:32:01.134707Z"
    }
   },
   "id": "236e9dde3c38711a",
   "execution_count": 6
  },
  {
   "cell_type": "code",
   "outputs": [],
   "source": [
    "# Calculate the magnitude spectrum of the DFT output\n",
    "magnitude_spectrum = np.abs(dft_output)\n",
    "\n",
    "# Visualize the original image and its magnitude spectrum\n",
    "plt.figure(figsize=(12, 6))\n",
    "\n",
    "# Original Image\n",
    "plt.subplot(1, 2, 1)\n",
    "plt.imshow(image_array, cmap='gray')\n",
    "plt.title('Original Image')\n",
    "plt.axis('off')\n",
    "\n",
    "# Magnitude Spectrum\n",
    "plt.subplot(1, 2, 2)\n",
    "plt.imshow(np.log(1 + magnitude_spectrum), cmap='gray')  # Log scale for better visibility\n",
    "plt.title('Magnitude Spectrum (DFT)')\n",
    "plt.axis('off')\n",
    "\n",
    "plt.show()"
   ],
   "metadata": {
    "collapsed": false,
    "ExecuteTime": {
     "end_time": "2024-09-12T00:12:35.586823Z",
     "start_time": "2024-09-12T00:12:35.586823Z"
    }
   },
   "id": "edb28e97a38dfea1"
  },
  {
   "cell_type": "code",
   "outputs": [],
   "source": [],
   "metadata": {
    "collapsed": false
   },
   "id": "56f3f88cf6e22b63"
  }
 ],
 "metadata": {
  "kernelspec": {
   "display_name": "Python 3",
   "language": "python",
   "name": "python3"
  },
  "language_info": {
   "codemirror_mode": {
    "name": "ipython",
    "version": 2
   },
   "file_extension": ".py",
   "mimetype": "text/x-python",
   "name": "python",
   "nbconvert_exporter": "python",
   "pygments_lexer": "ipython2",
   "version": "2.7.6"
  }
 },
 "nbformat": 4,
 "nbformat_minor": 5
}
